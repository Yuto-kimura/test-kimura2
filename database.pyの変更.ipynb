{
 "cells": [
  {
   "cell_type": "code",
   "execution_count": 1,
   "metadata": {},
   "outputs": [],
   "source": [
    "from assets import models\n",
    "import pandas as pd\n",
    "\n",
    "from assets.database import db_session"
   ]
  },
  {
   "cell_type": "code",
   "execution_count": 2,
   "metadata": {},
   "outputs": [],
   "source": [
    "df = pd.read_csv('assets/data.csv')"
   ]
  },
  {
   "cell_type": "code",
   "execution_count": 3,
   "metadata": {},
   "outputs": [
    {
     "data": {
      "text/html": [
       "<div>\n",
       "<style scoped>\n",
       "    .dataframe tbody tr th:only-of-type {\n",
       "        vertical-align: middle;\n",
       "    }\n",
       "\n",
       "    .dataframe tbody tr th {\n",
       "        vertical-align: top;\n",
       "    }\n",
       "\n",
       "    .dataframe thead th {\n",
       "        text-align: right;\n",
       "    }\n",
       "</style>\n",
       "<table border=\"1\" class=\"dataframe\">\n",
       "  <thead>\n",
       "    <tr style=\"text-align: right;\">\n",
       "      <th></th>\n",
       "      <th>date</th>\n",
       "      <th>subscribers</th>\n",
       "      <th>reviews</th>\n",
       "    </tr>\n",
       "  </thead>\n",
       "  <tbody>\n",
       "    <tr>\n",
       "      <th>0</th>\n",
       "      <td>2019/1/17</td>\n",
       "      <td>2671</td>\n",
       "      <td>194</td>\n",
       "    </tr>\n",
       "    <tr>\n",
       "      <th>1</th>\n",
       "      <td>2019/1/18</td>\n",
       "      <td>2671</td>\n",
       "      <td>195</td>\n",
       "    </tr>\n",
       "    <tr>\n",
       "      <th>2</th>\n",
       "      <td>2019/1/19</td>\n",
       "      <td>2674</td>\n",
       "      <td>197</td>\n",
       "    </tr>\n",
       "    <tr>\n",
       "      <th>3</th>\n",
       "      <td>2019/1/20</td>\n",
       "      <td>2685</td>\n",
       "      <td>199</td>\n",
       "    </tr>\n",
       "    <tr>\n",
       "      <th>4</th>\n",
       "      <td>2019/1/21</td>\n",
       "      <td>2695</td>\n",
       "      <td>199</td>\n",
       "    </tr>\n",
       "  </tbody>\n",
       "</table>\n",
       "</div>"
      ],
      "text/plain": [
       "        date  subscribers  reviews\n",
       "0  2019/1/17         2671      194\n",
       "1  2019/1/18         2671      195\n",
       "2  2019/1/19         2674      197\n",
       "3  2019/1/20         2685      199\n",
       "4  2019/1/21         2695      199"
      ]
     },
     "execution_count": 3,
     "metadata": {},
     "output_type": "execute_result"
    }
   ],
   "source": [
    "df.head()"
   ]
  },
  {
   "cell_type": "code",
   "execution_count": 4,
   "metadata": {},
   "outputs": [
    {
     "data": {
      "text/plain": [
       "'2019/1/17'"
      ]
     },
     "execution_count": 4,
     "metadata": {},
     "output_type": "execute_result"
    }
   ],
   "source": [
    "df.iloc[0, 0]"
   ]
  },
  {
   "cell_type": "code",
   "execution_count": 5,
   "metadata": {},
   "outputs": [],
   "source": [
    "import datetime"
   ]
  },
  {
   "cell_type": "code",
   "execution_count": 9,
   "metadata": {},
   "outputs": [
    {
     "data": {
      "text/plain": [
       "datetime.date(2019, 1, 17)"
      ]
     },
     "execution_count": 9,
     "metadata": {},
     "output_type": "execute_result"
    }
   ],
   "source": [
    "date = datetime.datetime.strptime(df.iloc[0, 0], '%Y/%m/%d').date()\n",
    "date"
   ]
  },
  {
   "cell_type": "code",
   "execution_count": 12,
   "metadata": {},
   "outputs": [
    {
     "name": "stdout",
     "output_type": "stream",
     "text": [
      "2019-04-19 19:08:56,391 INFO sqlalchemy.engine.base.Engine SELECT CAST('test plain returns' AS VARCHAR(60)) AS anon_1\n",
      "2019-04-19 19:08:56,392 INFO sqlalchemy.engine.base.Engine ()\n",
      "2019-04-19 19:08:56,395 INFO sqlalchemy.engine.base.Engine SELECT CAST('test unicode returns' AS VARCHAR(60)) AS anon_1\n",
      "2019-04-19 19:08:56,397 INFO sqlalchemy.engine.base.Engine ()\n",
      "2019-04-19 19:08:56,399 INFO sqlalchemy.engine.base.Engine BEGIN (implicit)\n",
      "2019-04-19 19:08:56,403 INFO sqlalchemy.engine.base.Engine INSERT INTO data (date, subscribers, reviews, timestamp) VALUES (?, ?, ?, ?)\n",
      "2019-04-19 19:08:56,404 INFO sqlalchemy.engine.base.Engine ('2019-01-17', 2671, 194, '2019-04-19 19:03:04.514308')\n",
      "2019-04-19 19:08:56,406 INFO sqlalchemy.engine.base.Engine INSERT INTO data (date, subscribers, reviews, timestamp) VALUES (?, ?, ?, ?)\n",
      "2019-04-19 19:08:56,407 INFO sqlalchemy.engine.base.Engine ('2019-01-18', 2671, 195, '2019-04-19 19:03:04.514308')\n",
      "2019-04-19 19:08:56,408 INFO sqlalchemy.engine.base.Engine INSERT INTO data (date, subscribers, reviews, timestamp) VALUES (?, ?, ?, ?)\n",
      "2019-04-19 19:08:56,409 INFO sqlalchemy.engine.base.Engine ('2019-01-19', 2674, 197, '2019-04-19 19:03:04.514308')\n",
      "2019-04-19 19:08:56,412 INFO sqlalchemy.engine.base.Engine INSERT INTO data (date, subscribers, reviews, timestamp) VALUES (?, ?, ?, ?)\n",
      "2019-04-19 19:08:56,414 INFO sqlalchemy.engine.base.Engine ('2019-01-20', 2685, 199, '2019-04-19 19:03:04.514308')\n",
      "2019-04-19 19:08:56,415 INFO sqlalchemy.engine.base.Engine INSERT INTO data (date, subscribers, reviews, timestamp) VALUES (?, ?, ?, ?)\n",
      "2019-04-19 19:08:56,416 INFO sqlalchemy.engine.base.Engine ('2019-01-21', 2695, 199, '2019-04-19 19:03:04.514308')\n",
      "2019-04-19 19:08:56,417 INFO sqlalchemy.engine.base.Engine INSERT INTO data (date, subscribers, reviews, timestamp) VALUES (?, ?, ?, ?)\n",
      "2019-04-19 19:08:56,418 INFO sqlalchemy.engine.base.Engine ('2019-01-22', 2701, 200, '2019-04-19 19:03:04.514308')\n",
      "2019-04-19 19:08:56,419 INFO sqlalchemy.engine.base.Engine INSERT INTO data (date, subscribers, reviews, timestamp) VALUES (?, ?, ?, ?)\n",
      "2019-04-19 19:08:56,420 INFO sqlalchemy.engine.base.Engine ('2019-01-23', 2710, 200, '2019-04-19 19:03:04.514308')\n",
      "2019-04-19 19:08:56,421 INFO sqlalchemy.engine.base.Engine INSERT INTO data (date, subscribers, reviews, timestamp) VALUES (?, ?, ?, ?)\n",
      "2019-04-19 19:08:56,422 INFO sqlalchemy.engine.base.Engine ('2019-01-24', 2718, 201, '2019-04-19 19:03:04.514308')\n",
      "2019-04-19 19:08:56,424 INFO sqlalchemy.engine.base.Engine INSERT INTO data (date, subscribers, reviews, timestamp) VALUES (?, ?, ?, ?)\n",
      "2019-04-19 19:08:56,425 INFO sqlalchemy.engine.base.Engine ('2019-01-25', 2722, 201, '2019-04-19 19:03:04.514308')\n",
      "2019-04-19 19:08:56,426 INFO sqlalchemy.engine.base.Engine INSERT INTO data (date, subscribers, reviews, timestamp) VALUES (?, ?, ?, ?)\n",
      "2019-04-19 19:08:56,426 INFO sqlalchemy.engine.base.Engine ('2019-01-26', 2725, 201, '2019-04-19 19:03:04.514308')\n",
      "2019-04-19 19:08:56,428 INFO sqlalchemy.engine.base.Engine INSERT INTO data (date, subscribers, reviews, timestamp) VALUES (?, ?, ?, ?)\n",
      "2019-04-19 19:08:56,430 INFO sqlalchemy.engine.base.Engine ('2019-01-27', 2734, 202, '2019-04-19 19:03:04.514308')\n",
      "2019-04-19 19:08:56,432 INFO sqlalchemy.engine.base.Engine INSERT INTO data (date, subscribers, reviews, timestamp) VALUES (?, ?, ?, ?)\n",
      "2019-04-19 19:08:56,433 INFO sqlalchemy.engine.base.Engine ('2019-01-28', 2753, 204, '2019-04-19 19:03:04.514308')\n",
      "2019-04-19 19:08:56,434 INFO sqlalchemy.engine.base.Engine INSERT INTO data (date, subscribers, reviews, timestamp) VALUES (?, ?, ?, ?)\n",
      "2019-04-19 19:08:56,435 INFO sqlalchemy.engine.base.Engine ('2019-01-29', 2773, 206, '2019-04-19 19:03:04.514308')\n",
      "2019-04-19 19:08:56,436 INFO sqlalchemy.engine.base.Engine INSERT INTO data (date, subscribers, reviews, timestamp) VALUES (?, ?, ?, ?)\n",
      "2019-04-19 19:08:56,438 INFO sqlalchemy.engine.base.Engine ('2019-01-30', 2785, 208, '2019-04-19 19:03:04.514308')\n",
      "2019-04-19 19:08:56,440 INFO sqlalchemy.engine.base.Engine INSERT INTO data (date, subscribers, reviews, timestamp) VALUES (?, ?, ?, ?)\n",
      "2019-04-19 19:08:56,441 INFO sqlalchemy.engine.base.Engine ('2019-01-31', 2803, 210, '2019-04-19 19:03:04.514308')\n",
      "2019-04-19 19:08:56,442 INFO sqlalchemy.engine.base.Engine INSERT INTO data (date, subscribers, reviews, timestamp) VALUES (?, ?, ?, ?)\n",
      "2019-04-19 19:08:56,443 INFO sqlalchemy.engine.base.Engine ('2019-02-01', 2845, 211, '2019-04-19 19:03:04.514308')\n",
      "2019-04-19 19:08:56,444 INFO sqlalchemy.engine.base.Engine INSERT INTO data (date, subscribers, reviews, timestamp) VALUES (?, ?, ?, ?)\n",
      "2019-04-19 19:08:56,445 INFO sqlalchemy.engine.base.Engine ('2019-02-02', 2847, 213, '2019-04-19 19:03:04.514308')\n",
      "2019-04-19 19:08:56,448 INFO sqlalchemy.engine.base.Engine INSERT INTO data (date, subscribers, reviews, timestamp) VALUES (?, ?, ?, ?)\n",
      "2019-04-19 19:08:56,449 INFO sqlalchemy.engine.base.Engine ('2019-02-03', 2847, 213, '2019-04-19 19:03:04.514308')\n",
      "2019-04-19 19:08:56,451 INFO sqlalchemy.engine.base.Engine INSERT INTO data (date, subscribers, reviews, timestamp) VALUES (?, ?, ?, ?)\n",
      "2019-04-19 19:08:56,453 INFO sqlalchemy.engine.base.Engine ('2019-02-04', 2851, 217, '2019-04-19 19:03:04.514308')\n",
      "2019-04-19 19:08:56,455 INFO sqlalchemy.engine.base.Engine INSERT INTO data (date, subscribers, reviews, timestamp) VALUES (?, ?, ?, ?)\n",
      "2019-04-19 19:08:56,456 INFO sqlalchemy.engine.base.Engine ('2019-02-05', 2852, 218, '2019-04-19 19:03:04.514308')\n",
      "2019-04-19 19:08:56,460 INFO sqlalchemy.engine.base.Engine INSERT INTO data (date, subscribers, reviews, timestamp) VALUES (?, ?, ?, ?)\n",
      "2019-04-19 19:08:56,460 INFO sqlalchemy.engine.base.Engine ('2019-02-06', 2857, 219, '2019-04-19 19:03:04.514308')\n",
      "2019-04-19 19:08:56,464 INFO sqlalchemy.engine.base.Engine INSERT INTO data (date, subscribers, reviews, timestamp) VALUES (?, ?, ?, ?)\n",
      "2019-04-19 19:08:56,465 INFO sqlalchemy.engine.base.Engine ('2019-02-07', 2861, 220, '2019-04-19 19:03:04.514308')\n",
      "2019-04-19 19:08:56,466 INFO sqlalchemy.engine.base.Engine INSERT INTO data (date, subscribers, reviews, timestamp) VALUES (?, ?, ?, ?)\n",
      "2019-04-19 19:08:56,468 INFO sqlalchemy.engine.base.Engine ('2019-02-08', 2865, 222, '2019-04-19 19:03:04.514308')\n",
      "2019-04-19 19:08:56,469 INFO sqlalchemy.engine.base.Engine INSERT INTO data (date, subscribers, reviews, timestamp) VALUES (?, ?, ?, ?)\n",
      "2019-04-19 19:08:56,471 INFO sqlalchemy.engine.base.Engine ('2019-02-09', 2870, 224, '2019-04-19 19:03:04.514308')\n",
      "2019-04-19 19:08:56,473 INFO sqlalchemy.engine.base.Engine INSERT INTO data (date, subscribers, reviews, timestamp) VALUES (?, ?, ?, ?)\n",
      "2019-04-19 19:08:56,474 INFO sqlalchemy.engine.base.Engine ('2019-02-10', 2875, 224, '2019-04-19 19:03:04.514308')\n",
      "2019-04-19 19:08:56,476 INFO sqlalchemy.engine.base.Engine INSERT INTO data (date, subscribers, reviews, timestamp) VALUES (?, ?, ?, ?)\n",
      "2019-04-19 19:08:56,479 INFO sqlalchemy.engine.base.Engine ('2019-02-11', 2892, 227, '2019-04-19 19:03:04.514308')\n",
      "2019-04-19 19:08:56,481 INFO sqlalchemy.engine.base.Engine INSERT INTO data (date, subscribers, reviews, timestamp) VALUES (?, ?, ?, ?)\n",
      "2019-04-19 19:08:56,485 INFO sqlalchemy.engine.base.Engine ('2019-02-12', 2906, 229, '2019-04-19 19:03:04.514308')\n",
      "2019-04-19 19:08:56,487 INFO sqlalchemy.engine.base.Engine INSERT INTO data (date, subscribers, reviews, timestamp) VALUES (?, ?, ?, ?)\n",
      "2019-04-19 19:08:56,488 INFO sqlalchemy.engine.base.Engine ('2019-02-13', 2919, 229, '2019-04-19 19:03:04.514308')\n",
      "2019-04-19 19:08:56,490 INFO sqlalchemy.engine.base.Engine INSERT INTO data (date, subscribers, reviews, timestamp) VALUES (?, ?, ?, ?)\n",
      "2019-04-19 19:08:56,492 INFO sqlalchemy.engine.base.Engine ('2019-02-14', 2942, 231, '2019-04-19 19:03:04.514308')\n",
      "2019-04-19 19:08:56,494 INFO sqlalchemy.engine.base.Engine INSERT INTO data (date, subscribers, reviews, timestamp) VALUES (?, ?, ?, ?)\n",
      "2019-04-19 19:08:56,495 INFO sqlalchemy.engine.base.Engine ('2019-02-15', 2974, 232, '2019-04-19 19:03:04.514308')\n",
      "2019-04-19 19:08:56,497 INFO sqlalchemy.engine.base.Engine INSERT INTO data (date, subscribers, reviews, timestamp) VALUES (?, ?, ?, ?)\n",
      "2019-04-19 19:08:56,499 INFO sqlalchemy.engine.base.Engine ('2019-02-16', 2977, 234, '2019-04-19 19:03:04.514308')\n"
     ]
    },
    {
     "name": "stdout",
     "output_type": "stream",
     "text": [
      "2019-04-19 19:08:56,500 INFO sqlalchemy.engine.base.Engine INSERT INTO data (date, subscribers, reviews, timestamp) VALUES (?, ?, ?, ?)\n",
      "2019-04-19 19:08:56,501 INFO sqlalchemy.engine.base.Engine ('2019-02-17', 2978, 234, '2019-04-19 19:03:04.514308')\n",
      "2019-04-19 19:08:56,503 INFO sqlalchemy.engine.base.Engine INSERT INTO data (date, subscribers, reviews, timestamp) VALUES (?, ?, ?, ?)\n",
      "2019-04-19 19:08:56,503 INFO sqlalchemy.engine.base.Engine ('2019-02-18', 2981, 234, '2019-04-19 19:03:04.514308')\n",
      "2019-04-19 19:08:56,506 INFO sqlalchemy.engine.base.Engine INSERT INTO data (date, subscribers, reviews, timestamp) VALUES (?, ?, ?, ?)\n",
      "2019-04-19 19:08:56,507 INFO sqlalchemy.engine.base.Engine ('2019-02-19', 2983, 234, '2019-04-19 19:03:04.514308')\n",
      "2019-04-19 19:08:56,508 INFO sqlalchemy.engine.base.Engine INSERT INTO data (date, subscribers, reviews, timestamp) VALUES (?, ?, ?, ?)\n",
      "2019-04-19 19:08:56,510 INFO sqlalchemy.engine.base.Engine ('2019-02-20', 2984, 237, '2019-04-19 19:03:04.514308')\n",
      "2019-04-19 19:08:56,512 INFO sqlalchemy.engine.base.Engine INSERT INTO data (date, subscribers, reviews, timestamp) VALUES (?, ?, ?, ?)\n",
      "2019-04-19 19:08:56,514 INFO sqlalchemy.engine.base.Engine ('2019-02-21', 2987, 239, '2019-04-19 19:03:04.514308')\n",
      "2019-04-19 19:08:56,517 INFO sqlalchemy.engine.base.Engine INSERT INTO data (date, subscribers, reviews, timestamp) VALUES (?, ?, ?, ?)\n",
      "2019-04-19 19:08:56,518 INFO sqlalchemy.engine.base.Engine ('2019-02-22', 2989, 239, '2019-04-19 19:03:04.514308')\n",
      "2019-04-19 19:08:56,519 INFO sqlalchemy.engine.base.Engine INSERT INTO data (date, subscribers, reviews, timestamp) VALUES (?, ?, ?, ?)\n",
      "2019-04-19 19:08:56,520 INFO sqlalchemy.engine.base.Engine ('2019-02-23', 2993, 241, '2019-04-19 19:03:04.514308')\n",
      "2019-04-19 19:08:56,522 INFO sqlalchemy.engine.base.Engine INSERT INTO data (date, subscribers, reviews, timestamp) VALUES (?, ?, ?, ?)\n",
      "2019-04-19 19:08:56,524 INFO sqlalchemy.engine.base.Engine ('2019-02-24', 2995, 241, '2019-04-19 19:03:04.514308')\n",
      "2019-04-19 19:08:56,525 INFO sqlalchemy.engine.base.Engine INSERT INTO data (date, subscribers, reviews, timestamp) VALUES (?, ?, ?, ?)\n",
      "2019-04-19 19:08:56,526 INFO sqlalchemy.engine.base.Engine ('2019-02-25', 3009, 241, '2019-04-19 19:03:04.514308')\n",
      "2019-04-19 19:08:56,528 INFO sqlalchemy.engine.base.Engine INSERT INTO data (date, subscribers, reviews, timestamp) VALUES (?, ?, ?, ?)\n",
      "2019-04-19 19:08:56,531 INFO sqlalchemy.engine.base.Engine ('2019-02-26', 3014, 243, '2019-04-19 19:03:04.514308')\n",
      "2019-04-19 19:08:56,532 INFO sqlalchemy.engine.base.Engine INSERT INTO data (date, subscribers, reviews, timestamp) VALUES (?, ?, ?, ?)\n",
      "2019-04-19 19:08:56,533 INFO sqlalchemy.engine.base.Engine ('2019-02-27', 3023, 243, '2019-04-19 19:03:04.514308')\n",
      "2019-04-19 19:08:56,534 INFO sqlalchemy.engine.base.Engine INSERT INTO data (date, subscribers, reviews, timestamp) VALUES (?, ?, ?, ?)\n",
      "2019-04-19 19:08:56,535 INFO sqlalchemy.engine.base.Engine ('2019-02-28', 3031, 243, '2019-04-19 19:03:04.514308')\n",
      "2019-04-19 19:08:56,536 INFO sqlalchemy.engine.base.Engine INSERT INTO data (date, subscribers, reviews, timestamp) VALUES (?, ?, ?, ?)\n",
      "2019-04-19 19:08:56,537 INFO sqlalchemy.engine.base.Engine ('2019-03-01', 3052, 244, '2019-04-19 19:03:04.514308')\n",
      "2019-04-19 19:08:56,539 INFO sqlalchemy.engine.base.Engine INSERT INTO data (date, subscribers, reviews, timestamp) VALUES (?, ?, ?, ?)\n",
      "2019-04-19 19:08:56,540 INFO sqlalchemy.engine.base.Engine ('2019-03-02', 3060, 245, '2019-04-19 19:03:04.514308')\n",
      "2019-04-19 19:08:56,542 INFO sqlalchemy.engine.base.Engine INSERT INTO data (date, subscribers, reviews, timestamp) VALUES (?, ?, ?, ?)\n",
      "2019-04-19 19:08:56,543 INFO sqlalchemy.engine.base.Engine ('2019-03-03', 3062, 246, '2019-04-19 19:03:04.514308')\n",
      "2019-04-19 19:08:56,544 INFO sqlalchemy.engine.base.Engine INSERT INTO data (date, subscribers, reviews, timestamp) VALUES (?, ?, ?, ?)\n",
      "2019-04-19 19:08:56,546 INFO sqlalchemy.engine.base.Engine ('2019-03-04', 3063, 249, '2019-04-19 19:03:04.514308')\n",
      "2019-04-19 19:08:56,548 INFO sqlalchemy.engine.base.Engine INSERT INTO data (date, subscribers, reviews, timestamp) VALUES (?, ?, ?, ?)\n",
      "2019-04-19 19:08:56,549 INFO sqlalchemy.engine.base.Engine ('2019-03-05', 3066, 252, '2019-04-19 19:03:04.514308')\n",
      "2019-04-19 19:08:56,551 INFO sqlalchemy.engine.base.Engine INSERT INTO data (date, subscribers, reviews, timestamp) VALUES (?, ?, ?, ?)\n",
      "2019-04-19 19:08:56,552 INFO sqlalchemy.engine.base.Engine ('2019-03-06', 3071, 254, '2019-04-19 19:03:04.514308')\n",
      "2019-04-19 19:08:56,553 INFO sqlalchemy.engine.base.Engine INSERT INTO data (date, subscribers, reviews, timestamp) VALUES (?, ?, ?, ?)\n",
      "2019-04-19 19:08:56,554 INFO sqlalchemy.engine.base.Engine ('2019-03-07', 3074, 255, '2019-04-19 19:03:04.514308')\n",
      "2019-04-19 19:08:56,555 INFO sqlalchemy.engine.base.Engine INSERT INTO data (date, subscribers, reviews, timestamp) VALUES (?, ?, ?, ?)\n",
      "2019-04-19 19:08:56,556 INFO sqlalchemy.engine.base.Engine ('2019-03-08', 3076, 256, '2019-04-19 19:03:04.514308')\n",
      "2019-04-19 19:08:56,557 INFO sqlalchemy.engine.base.Engine INSERT INTO data (date, subscribers, reviews, timestamp) VALUES (?, ?, ?, ?)\n",
      "2019-04-19 19:08:56,558 INFO sqlalchemy.engine.base.Engine ('2019-03-09', 3077, 258, '2019-04-19 19:03:04.514308')\n",
      "2019-04-19 19:08:56,559 INFO sqlalchemy.engine.base.Engine INSERT INTO data (date, subscribers, reviews, timestamp) VALUES (?, ?, ?, ?)\n",
      "2019-04-19 19:08:56,560 INFO sqlalchemy.engine.base.Engine ('2019-03-10', 3080, 258, '2019-04-19 19:03:04.514308')\n",
      "2019-04-19 19:08:56,563 INFO sqlalchemy.engine.base.Engine INSERT INTO data (date, subscribers, reviews, timestamp) VALUES (?, ?, ?, ?)\n",
      "2019-04-19 19:08:56,565 INFO sqlalchemy.engine.base.Engine ('2019-03-11', 3087, 261, '2019-04-19 19:03:04.514308')\n",
      "2019-04-19 19:08:56,566 INFO sqlalchemy.engine.base.Engine INSERT INTO data (date, subscribers, reviews, timestamp) VALUES (?, ?, ?, ?)\n",
      "2019-04-19 19:08:56,567 INFO sqlalchemy.engine.base.Engine ('2019-03-12', 3089, 261, '2019-04-19 19:03:04.514308')\n",
      "2019-04-19 19:08:56,568 INFO sqlalchemy.engine.base.Engine INSERT INTO data (date, subscribers, reviews, timestamp) VALUES (?, ?, ?, ?)\n",
      "2019-04-19 19:08:56,569 INFO sqlalchemy.engine.base.Engine ('2019-03-13', 3093, 262, '2019-04-19 19:03:04.514308')\n",
      "2019-04-19 19:08:56,570 INFO sqlalchemy.engine.base.Engine INSERT INTO data (date, subscribers, reviews, timestamp) VALUES (?, ?, ?, ?)\n",
      "2019-04-19 19:08:56,572 INFO sqlalchemy.engine.base.Engine ('2019-03-14', 3098, 262, '2019-04-19 19:03:04.514308')\n",
      "2019-04-19 19:08:56,573 INFO sqlalchemy.engine.base.Engine INSERT INTO data (date, subscribers, reviews, timestamp) VALUES (?, ?, ?, ?)\n",
      "2019-04-19 19:08:56,574 INFO sqlalchemy.engine.base.Engine ('2019-03-15', 3104, 262, '2019-04-19 19:03:04.514308')\n",
      "2019-04-19 19:08:56,576 INFO sqlalchemy.engine.base.Engine INSERT INTO data (date, subscribers, reviews, timestamp) VALUES (?, ?, ?, ?)\n",
      "2019-04-19 19:08:56,577 INFO sqlalchemy.engine.base.Engine ('2019-03-16', 3112, 262, '2019-04-19 19:03:04.514308')\n",
      "2019-04-19 19:08:56,580 INFO sqlalchemy.engine.base.Engine INSERT INTO data (date, subscribers, reviews, timestamp) VALUES (?, ?, ?, ?)\n",
      "2019-04-19 19:08:56,581 INFO sqlalchemy.engine.base.Engine ('2019-03-17', 3120, 262, '2019-04-19 19:03:04.514308')\n",
      "2019-04-19 19:08:56,583 INFO sqlalchemy.engine.base.Engine INSERT INTO data (date, subscribers, reviews, timestamp) VALUES (?, ?, ?, ?)\n",
      "2019-04-19 19:08:56,583 INFO sqlalchemy.engine.base.Engine ('2019-03-18', 3131, 265, '2019-04-19 19:03:04.514308')\n",
      "2019-04-19 19:08:56,586 INFO sqlalchemy.engine.base.Engine INSERT INTO data (date, subscribers, reviews, timestamp) VALUES (?, ?, ?, ?)\n",
      "2019-04-19 19:08:56,589 INFO sqlalchemy.engine.base.Engine ('2019-03-19', 3142, 266, '2019-04-19 19:03:04.514308')\n",
      "2019-04-19 19:08:56,590 INFO sqlalchemy.engine.base.Engine INSERT INTO data (date, subscribers, reviews, timestamp) VALUES (?, ?, ?, ?)\n",
      "2019-04-19 19:08:56,591 INFO sqlalchemy.engine.base.Engine ('2019-03-20', 3162, 266, '2019-04-19 19:03:04.514308')\n",
      "2019-04-19 19:08:56,593 INFO sqlalchemy.engine.base.Engine INSERT INTO data (date, subscribers, reviews, timestamp) VALUES (?, ?, ?, ?)\n",
      "2019-04-19 19:08:56,594 INFO sqlalchemy.engine.base.Engine ('2019-03-21', 3173, 268, '2019-04-19 19:03:04.514308')\n"
     ]
    },
    {
     "name": "stdout",
     "output_type": "stream",
     "text": [
      "2019-04-19 19:08:56,600 INFO sqlalchemy.engine.base.Engine INSERT INTO data (date, subscribers, reviews, timestamp) VALUES (?, ?, ?, ?)\n",
      "2019-04-19 19:08:56,601 INFO sqlalchemy.engine.base.Engine ('2019-03-22', 3180, 269, '2019-04-19 19:03:04.514308')\n",
      "2019-04-19 19:08:56,602 INFO sqlalchemy.engine.base.Engine INSERT INTO data (date, subscribers, reviews, timestamp) VALUES (?, ?, ?, ?)\n",
      "2019-04-19 19:08:56,603 INFO sqlalchemy.engine.base.Engine ('2019-03-23', 3187, 271, '2019-04-19 19:03:04.514308')\n",
      "2019-04-19 19:08:56,605 INFO sqlalchemy.engine.base.Engine INSERT INTO data (date, subscribers, reviews, timestamp) VALUES (?, ?, ?, ?)\n",
      "2019-04-19 19:08:56,606 INFO sqlalchemy.engine.base.Engine ('2019-03-24', 3189, 271, '2019-04-19 19:03:04.514308')\n",
      "2019-04-19 19:08:56,612 INFO sqlalchemy.engine.base.Engine INSERT INTO data (date, subscribers, reviews, timestamp) VALUES (?, ?, ?, ?)\n",
      "2019-04-19 19:08:56,614 INFO sqlalchemy.engine.base.Engine ('2019-03-25', 3196, 274, '2019-04-19 19:03:04.514308')\n",
      "2019-04-19 19:08:56,617 INFO sqlalchemy.engine.base.Engine INSERT INTO data (date, subscribers, reviews, timestamp) VALUES (?, ?, ?, ?)\n",
      "2019-04-19 19:08:56,618 INFO sqlalchemy.engine.base.Engine ('2019-03-26', 3212, 274, '2019-04-19 19:03:04.514308')\n",
      "2019-04-19 19:08:56,621 INFO sqlalchemy.engine.base.Engine INSERT INTO data (date, subscribers, reviews, timestamp) VALUES (?, ?, ?, ?)\n",
      "2019-04-19 19:08:56,623 INFO sqlalchemy.engine.base.Engine ('2019-03-27', 3220, 274, '2019-04-19 19:03:04.514308')\n",
      "2019-04-19 19:08:56,624 INFO sqlalchemy.engine.base.Engine INSERT INTO data (date, subscribers, reviews, timestamp) VALUES (?, ?, ?, ?)\n",
      "2019-04-19 19:08:56,625 INFO sqlalchemy.engine.base.Engine ('2019-03-28', 3226, 275, '2019-04-19 19:03:04.514308')\n",
      "2019-04-19 19:08:56,628 INFO sqlalchemy.engine.base.Engine INSERT INTO data (date, subscribers, reviews, timestamp) VALUES (?, ?, ?, ?)\n",
      "2019-04-19 19:08:56,629 INFO sqlalchemy.engine.base.Engine ('2019-03-29', 3241, 275, '2019-04-19 19:03:04.514308')\n",
      "2019-04-19 19:08:56,634 INFO sqlalchemy.engine.base.Engine INSERT INTO data (date, subscribers, reviews, timestamp) VALUES (?, ?, ?, ?)\n",
      "2019-04-19 19:08:56,635 INFO sqlalchemy.engine.base.Engine ('2019-03-30', 3253, 278, '2019-04-19 19:03:04.514308')\n",
      "2019-04-19 19:08:56,636 INFO sqlalchemy.engine.base.Engine INSERT INTO data (date, subscribers, reviews, timestamp) VALUES (?, ?, ?, ?)\n",
      "2019-04-19 19:08:56,640 INFO sqlalchemy.engine.base.Engine ('2019-03-31', 3255, 278, '2019-04-19 19:03:04.514308')\n",
      "2019-04-19 19:08:56,641 INFO sqlalchemy.engine.base.Engine INSERT INTO data (date, subscribers, reviews, timestamp) VALUES (?, ?, ?, ?)\n",
      "2019-04-19 19:08:56,646 INFO sqlalchemy.engine.base.Engine ('2019-04-01', 3258, 280, '2019-04-19 19:03:04.514308')\n",
      "2019-04-19 19:08:56,649 INFO sqlalchemy.engine.base.Engine INSERT INTO data (date, subscribers, reviews, timestamp) VALUES (?, ?, ?, ?)\n",
      "2019-04-19 19:08:56,650 INFO sqlalchemy.engine.base.Engine ('2019-04-02', 3262, 282, '2019-04-19 19:03:04.514308')\n",
      "2019-04-19 19:08:56,651 INFO sqlalchemy.engine.base.Engine INSERT INTO data (date, subscribers, reviews, timestamp) VALUES (?, ?, ?, ?)\n",
      "2019-04-19 19:08:56,653 INFO sqlalchemy.engine.base.Engine ('2019-04-03', 3264, 282, '2019-04-19 19:03:04.514308')\n",
      "2019-04-19 19:08:56,669 INFO sqlalchemy.engine.base.Engine INSERT INTO data (date, subscribers, reviews, timestamp) VALUES (?, ?, ?, ?)\n",
      "2019-04-19 19:08:56,670 INFO sqlalchemy.engine.base.Engine ('2019-04-04', 3272, 282, '2019-04-19 19:03:04.514308')\n",
      "2019-04-19 19:08:56,675 INFO sqlalchemy.engine.base.Engine INSERT INTO data (date, subscribers, reviews, timestamp) VALUES (?, ?, ?, ?)\n",
      "2019-04-19 19:08:56,676 INFO sqlalchemy.engine.base.Engine ('2019-04-05', 3275, 284, '2019-04-19 19:03:04.514308')\n",
      "2019-04-19 19:08:56,679 INFO sqlalchemy.engine.base.Engine INSERT INTO data (date, subscribers, reviews, timestamp) VALUES (?, ?, ?, ?)\n",
      "2019-04-19 19:08:56,681 INFO sqlalchemy.engine.base.Engine ('2019-04-06', 3276, 287, '2019-04-19 19:03:04.514308')\n",
      "2019-04-19 19:08:56,683 INFO sqlalchemy.engine.base.Engine INSERT INTO data (date, subscribers, reviews, timestamp) VALUES (?, ?, ?, ?)\n",
      "2019-04-19 19:08:56,684 INFO sqlalchemy.engine.base.Engine ('2019-04-07', 3279, 289, '2019-04-19 19:03:04.514308')\n",
      "2019-04-19 19:08:56,686 INFO sqlalchemy.engine.base.Engine INSERT INTO data (date, subscribers, reviews, timestamp) VALUES (?, ?, ?, ?)\n",
      "2019-04-19 19:08:56,691 INFO sqlalchemy.engine.base.Engine ('2019-04-08', 3285, 289, '2019-04-19 19:03:04.514308')\n",
      "2019-04-19 19:08:56,692 INFO sqlalchemy.engine.base.Engine INSERT INTO data (date, subscribers, reviews, timestamp) VALUES (?, ?, ?, ?)\n",
      "2019-04-19 19:08:56,694 INFO sqlalchemy.engine.base.Engine ('2019-04-09', 3300, 291, '2019-04-19 19:03:04.514308')\n",
      "2019-04-19 19:08:56,695 INFO sqlalchemy.engine.base.Engine INSERT INTO data (date, subscribers, reviews, timestamp) VALUES (?, ?, ?, ?)\n",
      "2019-04-19 19:08:56,697 INFO sqlalchemy.engine.base.Engine ('2019-04-10', 3306, 293, '2019-04-19 19:03:04.514308')\n",
      "2019-04-19 19:08:56,698 INFO sqlalchemy.engine.base.Engine INSERT INTO data (date, subscribers, reviews, timestamp) VALUES (?, ?, ?, ?)\n",
      "2019-04-19 19:08:56,700 INFO sqlalchemy.engine.base.Engine ('2019-04-11', 3312, 295, '2019-04-19 19:03:04.514308')\n",
      "2019-04-19 19:08:56,701 INFO sqlalchemy.engine.base.Engine INSERT INTO data (date, subscribers, reviews, timestamp) VALUES (?, ?, ?, ?)\n",
      "2019-04-19 19:08:56,705 INFO sqlalchemy.engine.base.Engine ('2019-04-12', 3319, 295, '2019-04-19 19:03:04.514308')\n",
      "2019-04-19 19:08:56,708 INFO sqlalchemy.engine.base.Engine INSERT INTO data (date, subscribers, reviews, timestamp) VALUES (?, ?, ?, ?)\n",
      "2019-04-19 19:08:56,714 INFO sqlalchemy.engine.base.Engine ('2019-04-13', 3324, 295, '2019-04-19 19:03:04.514308')\n",
      "2019-04-19 19:08:56,725 INFO sqlalchemy.engine.base.Engine INSERT INTO data (date, subscribers, reviews, timestamp) VALUES (?, ?, ?, ?)\n",
      "2019-04-19 19:08:56,745 INFO sqlalchemy.engine.base.Engine ('2019-04-14', 3325, 297, '2019-04-19 19:03:04.514308')\n",
      "2019-04-19 19:08:56,752 INFO sqlalchemy.engine.base.Engine INSERT INTO data (date, subscribers, reviews, timestamp) VALUES (?, ?, ?, ?)\n",
      "2019-04-19 19:08:56,755 INFO sqlalchemy.engine.base.Engine ('2019-04-15', 3329, 298, '2019-04-19 19:03:04.514308')\n",
      "2019-04-19 19:08:56,757 INFO sqlalchemy.engine.base.Engine INSERT INTO data (date, subscribers, reviews, timestamp) VALUES (?, ?, ?, ?)\n",
      "2019-04-19 19:08:56,758 INFO sqlalchemy.engine.base.Engine ('2019-04-16', 3331, 299, '2019-04-19 19:03:04.514308')\n",
      "2019-04-19 19:08:56,759 INFO sqlalchemy.engine.base.Engine INSERT INTO data (date, subscribers, reviews, timestamp) VALUES (?, ?, ?, ?)\n",
      "2019-04-19 19:08:56,762 INFO sqlalchemy.engine.base.Engine ('2019-04-17', 3332, 299, '2019-04-19 19:03:04.514308')\n",
      "2019-04-19 19:08:56,766 INFO sqlalchemy.engine.base.Engine INSERT INTO data (date, subscribers, reviews, timestamp) VALUES (?, ?, ?, ?)\n",
      "2019-04-19 19:08:56,772 INFO sqlalchemy.engine.base.Engine ('2019-04-18', 3333, 299, '2019-04-19 19:03:04.514308')\n",
      "2019-04-19 19:08:56,775 INFO sqlalchemy.engine.base.Engine INSERT INTO data (date, subscribers, reviews, timestamp) VALUES (?, ?, ?, ?)\n",
      "2019-04-19 19:08:56,775 INFO sqlalchemy.engine.base.Engine ('2019-04-19', 3336, 299, '2019-04-19 19:03:04.514308')\n",
      "2019-04-19 19:08:56,780 INFO sqlalchemy.engine.base.Engine COMMIT\n"
     ]
    }
   ],
   "source": [
    "for index, _df in df.iterrows():\n",
    "#     date型への変更\n",
    "    date = datetime.datetime.strptime(_df['date'], '%Y/%m/%d').date()\n",
    "    row = models.Data(date=date, subscribers=_df['subscribers'], reviews=_df['reviews'])\n",
    "    db_session.add(row)\n",
    "db_session.commit()"
   ]
  },
  {
   "cell_type": "code",
   "execution_count": null,
   "metadata": {},
   "outputs": [],
   "source": [
    "def read_data():\n",
    "    from assets import models\n",
    "    df = pd.read_csv('assets/data.csv')\n",
    "    for index, _df in df.iterrows():\n",
    "    #     date型への変更\n",
    "        date = datetime.datetime.strptime(_df['date'], '%Y/%m/%d').date()\n",
    "        row = models.Data(date=date, subscribers=_df['subscribers'], reviews=_df['reviews'])\n",
    "        db_session.add(row)\n",
    "    db_session.commit()"
   ]
  },
  {
   "cell_type": "code",
   "execution_count": null,
   "metadata": {},
   "outputs": [],
   "source": []
  },
  {
   "cell_type": "code",
   "execution_count": null,
   "metadata": {},
   "outputs": [],
   "source": []
  },
  {
   "cell_type": "code",
   "execution_count": null,
   "metadata": {},
   "outputs": [],
   "source": []
  },
  {
   "cell_type": "code",
   "execution_count": null,
   "metadata": {},
   "outputs": [],
   "source": []
  },
  {
   "cell_type": "code",
   "execution_count": null,
   "metadata": {},
   "outputs": [],
   "source": []
  },
  {
   "cell_type": "code",
   "execution_count": null,
   "metadata": {},
   "outputs": [],
   "source": []
  }
 ],
 "metadata": {
  "kernelspec": {
   "display_name": "Python 3",
   "language": "python",
   "name": "python3"
  },
  "language_info": {
   "codemirror_mode": {
    "name": "ipython",
    "version": 3
   },
   "file_extension": ".py",
   "mimetype": "text/x-python",
   "name": "python",
   "nbconvert_exporter": "python",
   "pygments_lexer": "ipython3",
   "version": "3.7.0"
  }
 },
 "nbformat": 4,
 "nbformat_minor": 2
}
